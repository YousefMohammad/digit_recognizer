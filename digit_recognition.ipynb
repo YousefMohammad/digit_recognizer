{
 "cells": [
  {
   "cell_type": "markdown",
   "id": "32ba2912-7ab7-4ee8-a785-fed1ca9fac47",
   "metadata": {},
   "source": [
    "# Digit Recognition"
   ]
  },
  {
   "cell_type": "code",
   "execution_count": 1,
   "id": "eb791915-fcb0-4c19-a2df-9f89dd05952f",
   "metadata": {},
   "outputs": [],
   "source": [
    "import pandas as pd\n",
    "import numpy as np\n",
    "import matplotlib.image as mpimg\n",
    "import matplotlib.pyplot as plt\n",
    "import seaborn as sns\n",
    "\n",
    "from sklearn.model_selection import train_test_split\n",
    "from sklearn.feature_selection import VarianceThreshold\n",
    "from sklearn.metrics import confusion_matrix, classification_report\n",
    "import itertools\n",
    "\n",
    "from tensorflow.keras.utils import to_categorical\n",
    "import keras.models as models\n",
    "from keras.models import Sequential\n",
    "from keras.layers import Dense, Dropout, Flatten, Conv2D, MaxPool2D, BatchNormalization, MaxPooling2D\n",
    "from keras.optimizers import RMSprop, Adam, SGD\n",
    "from tensorflow.keras.preprocessing.image import ImageDataGenerator\n",
    "from keras.callbacks import ReduceLROnPlateau\n",
    "from keras.datasets import mnist"
   ]
  },
  {
   "cell_type": "code",
   "execution_count": 2,
   "id": "7d67e475-02bc-4be3-ad26-893075897534",
   "metadata": {},
   "outputs": [],
   "source": [
    "sns.set(style='white', context='notebook', palette='deep')"
   ]
  },
  {
   "cell_type": "markdown",
   "id": "13ed732f-7acf-4ff5-81ff-f2cfe9567a43",
   "metadata": {},
   "source": [
    "# exploring dataset"
   ]
  },
  {
   "cell_type": "code",
   "execution_count": 3,
   "id": "36ff396e-ae38-408e-9af9-558d166d095a",
   "metadata": {},
   "outputs": [],
   "source": [
    "(x_train, y_train), (x_test, y_test) = mnist.load_data()"
   ]
  },
  {
   "cell_type": "code",
   "execution_count": 4,
   "id": "1150c96c-88a1-44c1-af7c-9f62e9564317",
   "metadata": {},
   "outputs": [],
   "source": [
    "train = pd.read_csv(\"train.csv\")\n",
    "test = pd.read_csv(\"test.csv\")"
   ]
  },
  {
   "cell_type": "code",
   "execution_count": 5,
   "id": "b16d922f-1fa9-4beb-9172-2e9c6af670e6",
   "metadata": {},
   "outputs": [
    {
     "data": {
      "text/plain": [
       "(60000, 28, 28)"
      ]
     },
     "execution_count": 5,
     "metadata": {},
     "output_type": "execute_result"
    }
   ],
   "source": [
    "x_train.shape"
   ]
  },
  {
   "cell_type": "code",
   "execution_count": 6,
   "id": "d7e07b73-639a-4c13-8981-d8769391105e",
   "metadata": {},
   "outputs": [
    {
     "name": "stdout",
     "output_type": "stream",
     "text": [
      "<class 'pandas.core.frame.DataFrame'>\n",
      "RangeIndex: 42000 entries, 0 to 41999\n",
      "Columns: 785 entries, label to pixel783\n",
      "dtypes: int64(785)\n",
      "memory usage: 251.5 MB\n"
     ]
    }
   ],
   "source": [
    "train.info()"
   ]
  },
  {
   "cell_type": "code",
   "execution_count": 7,
   "id": "08e74473-eefa-4402-8ec6-2762a8a24177",
   "metadata": {},
   "outputs": [
    {
     "name": "stdout",
     "output_type": "stream",
     "text": [
      "<class 'pandas.core.frame.DataFrame'>\n",
      "RangeIndex: 28000 entries, 0 to 27999\n",
      "Columns: 784 entries, pixel0 to pixel783\n",
      "dtypes: int64(784)\n",
      "memory usage: 167.5 MB\n"
     ]
    }
   ],
   "source": [
    "test.info()"
   ]
  },
  {
   "cell_type": "markdown",
   "id": "2bb44a5d-1e75-48a9-9fb3-c885b2a50339",
   "metadata": {},
   "source": [
    "# Preprocess data"
   ]
  },
  {
   "cell_type": "code",
   "execution_count": 8,
   "id": "d0447b64-96df-4980-8c13-5cbaacc6d85f",
   "metadata": {},
   "outputs": [],
   "source": [
    "Y_train = to_categorical(train['label'])\n",
    "X_train = train.drop('label',axis = 1)"
   ]
  },
  {
   "cell_type": "code",
   "execution_count": 9,
   "id": "eabb2a4c-dba7-49e7-87f1-56e4bb8ec95d",
   "metadata": {},
   "outputs": [],
   "source": [
    "y_train = to_categorical(y_train)\n",
    "y_test = to_categorical(y_test)"
   ]
  },
  {
   "cell_type": "code",
   "execution_count": 10,
   "id": "51cd4490-1bf7-4fba-ae76-27caa241c537",
   "metadata": {},
   "outputs": [],
   "source": [
    "X_train = X_train / 255.0\n",
    "test = test / 255.0"
   ]
  },
  {
   "cell_type": "code",
   "execution_count": 11,
   "id": "dc4406e9-c333-4f24-b7ff-3afbff49cfa5",
   "metadata": {},
   "outputs": [],
   "source": [
    "x_train = x_train / 255\n",
    "x_test = x_test / 255"
   ]
  },
  {
   "cell_type": "code",
   "execution_count": 12,
   "id": "e5a20cea-66a0-431d-92e7-1fd6dc570e75",
   "metadata": {},
   "outputs": [],
   "source": [
    "x_train = x_train.reshape(-1,28,28,1)\n",
    "x_test = x_test.reshape(-1,28,28,1)"
   ]
  },
  {
   "cell_type": "code",
   "execution_count": 13,
   "id": "8ebfd9c5-3234-4933-b52c-4180fa709661",
   "metadata": {},
   "outputs": [],
   "source": [
    "X_train = X_train.values.reshape(-1,28,28,1)\n",
    "test = test.values.reshape(-1,28,28,1)"
   ]
  },
  {
   "cell_type": "code",
   "execution_count": 14,
   "id": "a40fd1b7-b7ea-468a-bc03-92421bfe39dd",
   "metadata": {},
   "outputs": [],
   "source": [
    "X = np.concatenate([X_train, x_train,x_test])"
   ]
  },
  {
   "cell_type": "code",
   "execution_count": 15,
   "id": "cedd226b-06d6-4d3f-ae39-69bdb42c4a51",
   "metadata": {},
   "outputs": [],
   "source": [
    "Y = np.concatenate([Y_train,y_train, y_test])"
   ]
  },
  {
   "cell_type": "code",
   "execution_count": 16,
   "id": "fea57ff5-61bd-41e9-b058-150fe4331339",
   "metadata": {},
   "outputs": [],
   "source": [
    "X_train_, X_val, y_train_, y_val = train_test_split(X, Y, test_size=.1, random_state=42)"
   ]
  },
  {
   "cell_type": "code",
   "execution_count": 17,
   "id": "73ef2755-8edf-4919-88c8-e1dbbdf2e3da",
   "metadata": {},
   "outputs": [
    {
     "data": {
      "text/plain": [
       "array([[0., 0., 0., ..., 0., 0., 0.],\n",
       "       [1., 0., 0., ..., 0., 0., 0.],\n",
       "       [0., 0., 0., ..., 0., 0., 0.],\n",
       "       ...,\n",
       "       [0., 0., 0., ..., 0., 0., 0.],\n",
       "       [0., 0., 0., ..., 0., 0., 0.],\n",
       "       [0., 0., 0., ..., 0., 1., 0.]], dtype=float32)"
      ]
     },
     "execution_count": 17,
     "metadata": {},
     "output_type": "execute_result"
    }
   ],
   "source": [
    "y_train"
   ]
  },
  {
   "cell_type": "code",
   "execution_count": 18,
   "id": "9c1c3b61-571b-45aa-bcab-3fc3401f8df1",
   "metadata": {},
   "outputs": [
    {
     "data": {
      "image/png": "[encoded data removed]",
      "text/plain": [
       "<Figure size 640x480 with 1 Axes>"
      ]
     },
     "metadata": {},
     "output_type": "display_data"
    }
   ],
   "source": [
    "plt.imshow(x_train[523])\n",
    "plt.title(np.argmax(y_train[523]));"
   ]
  },
  {
   "cell_type": "markdown",
   "id": "580e39fb-8553-4a76-a58d-483d107b103c",
   "metadata": {},
   "source": [
    "# Baseline Model"
   ]
  },
  {
   "cell_type": "code",
   "execution_count": 19,
   "id": "929ca1e8-b2cf-4813-b7b9-374ed5d6dae4",
   "metadata": {},
   "outputs": [],
   "source": [
    "# y_train.value_counts(normalize=True).max()\n",
    "# np.max(np.argmax(y_train))"
   ]
  },
  {
   "cell_type": "markdown",
   "id": "29ded30e-0697-4acc-b797-e0a0aa6e9ed2",
   "metadata": {},
   "source": [
    "# Building Model"
   ]
  },
  {
   "cell_type": "code",
   "execution_count": 20,
   "id": "df9939a8-0a0f-462a-bfd6-a469e8a2b271",
   "metadata": {},
   "outputs": [],
   "source": [
    "def model():\n",
    "    model = Sequential()\n",
    "    model.add(Conv2D(32, (3, 3), activation='relu', kernel_initializer='he_uniform', padding='same', input_shape=(28, 28, 1)))\n",
    "    model.add(BatchNormalization())\n",
    "    model.add(Conv2D(32, (3, 3), activation='relu', kernel_initializer='he_uniform', padding='same'))\n",
    "    model.add(BatchNormalization())\n",
    "    model.add(MaxPooling2D((2, 2)))\n",
    "    model.add(Dropout(0.2))\n",
    "    model.add(Conv2D(64, (3, 3), activation='relu', kernel_initializer='he_uniform', padding='same'))\n",
    "    model.add(BatchNormalization())\n",
    "    model.add(Conv2D(64, (3, 3), activation='relu', kernel_initializer='he_uniform', padding='same'))\n",
    "    model.add(BatchNormalization())\n",
    "    model.add(MaxPooling2D((2, 2)))\n",
    "    model.add(Dropout(0.3))\n",
    "    model.add(Conv2D(128, (3, 3), activation='relu', kernel_initializer='he_uniform', padding='same'))\n",
    "    model.add(BatchNormalization())\n",
    "    model.add(Conv2D(128, (5, 5), activation='relu', kernel_initializer='he_uniform', padding='same'))\n",
    "    model.add(BatchNormalization())\n",
    "    model.add(MaxPooling2D((2, 2)))\n",
    "    model.add(Dropout(0.4))\n",
    "    model.add(Flatten())\n",
    "    model.add(Dense(256, activation='relu', kernel_initializer='he_uniform'))\n",
    "    model.add(BatchNormalization())\n",
    "    model.add(Dropout(0.5))\n",
    "    model.add(Dense(10, activation='softmax'))\n",
    "    \n",
    "    return model"
   ]
  },
  {
   "cell_type": "code",
   "execution_count": 21,
   "id": "72f4c7fc-b863-4e01-a23c-b84e6a231468",
   "metadata": {},
   "outputs": [],
   "source": [
    "lr = .001\n",
    "optimizers = {\n",
    "    'SGD':SGD(learning_rate=lr, momentum=.9),\n",
    "    'Adam':Adam(learning_rate=lr,beta_1=.9)\n",
    "}"
   ]
  },
  {
   "cell_type": "code",
   "execution_count": 22,
   "id": "fcabd210-e23a-4435-9267-751f251c8b6c",
   "metadata": {},
   "outputs": [],
   "source": [
    "model = model()"
   ]
  },
  {
   "cell_type": "code",
   "execution_count": 23,
   "id": "f1bb7f6e-de51-45b5-a351-73da48c61fee",
   "metadata": {},
   "outputs": [],
   "source": [
    "model.compile(optimizer=optimizers['Adam'], loss='categorical_crossentropy', metrics=['accuracy'])"
   ]
  },
  {
   "cell_type": "code",
   "execution_count": 24,
   "id": "6640a001-8ab9-409a-9115-2e19e31571a0",
   "metadata": {},
   "outputs": [],
   "source": [
    "reduce_lr = ReduceLROnPlateau(monitor='loss', factor=0.3, verbose=1,patience=2, min_lr=0.00000001)\n",
    "\n",
    "datagen = ImageDataGenerator(\n",
    "        rotation_range=15,\n",
    "        zoom_range = 0.01,\n",
    "        width_shift_range=0.1,\n",
    "        height_shift_range=0.1)\n",
    "# prepare iterator\n",
    "it_train = datagen.flow(x_train, y_train, batch_size=64)"
   ]
  },
  {
   "cell_type": "code",
   "execution_count": null,
   "id": "1aed8e39-39b5-4858-92ad-f80121c66bf8",
   "metadata": {
    "tags": []
   },
   "outputs": [
    {
     "name": "stdout",
     "output_type": "stream",
     "text": [
      "Epoch 1/50\n",
      "938/938 [==============================] - 306s 324ms/step - loss: 0.3323 - accuracy: 0.8975 - val_loss: 0.0417 - val_accuracy: 0.9877 - lr: 0.0010\n",
      "Epoch 2/50\n",
      "938/938 [==============================] - 323s 344ms/step - loss: 0.1023 - accuracy: 0.9692 - val_loss: 0.0339 - val_accuracy: 0.9888 - lr: 0.0010\n",
      "Epoch 3/50\n",
      "938/938 [==============================] - 301s 320ms/step - loss: 0.0759 - accuracy: 0.9765 - val_loss: 0.0277 - val_accuracy: 0.9922 - lr: 0.0010\n",
      "Epoch 4/50\n",
      "938/938 [==============================] - 297s 316ms/step - loss: 0.0654 - accuracy: 0.9802 - val_loss: 0.0281 - val_accuracy: 0.9918 - lr: 0.0010\n",
      "Epoch 5/50\n",
      "938/938 [==============================] - 275s 293ms/step - loss: 0.0560 - accuracy: 0.9831 - val_loss: 0.0245 - val_accuracy: 0.9927 - lr: 0.0010\n",
      "Epoch 6/50\n",
      "938/938 [==============================] - 277s 295ms/step - loss: 0.0510 - accuracy: 0.9847 - val_loss: 0.0231 - val_accuracy: 0.9941 - lr: 0.0010\n",
      "Epoch 7/50\n",
      "938/938 [==============================] - 281s 299ms/step - loss: 0.0476 - accuracy: 0.9856 - val_loss: 0.0211 - val_accuracy: 0.9939 - lr: 0.0010\n",
      "Epoch 8/50\n",
      "938/938 [==============================] - 295s 314ms/step - loss: 0.0427 - accuracy: 0.9871 - val_loss: 0.0174 - val_accuracy: 0.9948 - lr: 0.0010\n",
      "Epoch 9/50\n",
      "938/938 [==============================] - 280s 298ms/step - loss: 0.0417 - accuracy: 0.9874 - val_loss: 0.0787 - val_accuracy: 0.9668 - lr: 0.0010\n",
      "Epoch 10/50\n",
      "938/938 [==============================] - 275s 293ms/step - loss: 0.0384 - accuracy: 0.9888 - val_loss: 0.0216 - val_accuracy: 0.9943 - lr: 0.0010\n",
      "Epoch 11/50\n",
      "938/938 [==============================] - 285s 304ms/step - loss: 0.0363 - accuracy: 0.9888 - val_loss: 0.0137 - val_accuracy: 0.9962 - lr: 0.0010\n",
      "Epoch 12/50\n",
      "938/938 [==============================] - 291s 310ms/step - loss: 0.0344 - accuracy: 0.9899 - val_loss: 0.0153 - val_accuracy: 0.9959 - lr: 0.0010\n",
      "Epoch 13/50\n",
      "938/938 [==============================] - 303s 323ms/step - loss: 0.0343 - accuracy: 0.9899 - val_loss: 0.0135 - val_accuracy: 0.9964 - lr: 0.0010\n",
      "Epoch 14/50\n",
      "938/938 [==============================] - 317s 338ms/step - loss: 0.0319 - accuracy: 0.9905 - val_loss: 0.0149 - val_accuracy: 0.9960 - lr: 0.0010\n",
      "Epoch 15/50\n",
      "938/938 [==============================] - 297s 317ms/step - loss: 0.0298 - accuracy: 0.9913 - val_loss: 0.0138 - val_accuracy: 0.9965 - lr: 0.0010\n",
      "Epoch 16/50\n",
      "938/938 [==============================] - 281s 299ms/step - loss: 0.0293 - accuracy: 0.9914 - val_loss: 0.0110 - val_accuracy: 0.9977 - lr: 0.0010\n",
      "Epoch 17/50\n",
      "938/938 [==============================] - 276s 295ms/step - loss: 0.0281 - accuracy: 0.9915 - val_loss: 0.0095 - val_accuracy: 0.9976 - lr: 0.0010\n",
      "Epoch 18/50\n",
      "938/938 [==============================] - 299s 319ms/step - loss: 0.0273 - accuracy: 0.9919 - val_loss: 0.0167 - val_accuracy: 0.9949 - lr: 0.0010\n",
      "Epoch 19/50\n",
      "938/938 [==============================] - 280s 299ms/step - loss: 0.0243 - accuracy: 0.9926 - val_loss: 0.0099 - val_accuracy: 0.9973 - lr: 0.0010\n",
      "Epoch 20/50\n",
      "938/938 [==============================] - 274s 292ms/step - loss: 0.0239 - accuracy: 0.9930 - val_loss: 0.0087 - val_accuracy: 0.9976 - lr: 0.0010\n",
      "Epoch 21/50\n",
      "938/938 [==============================] - 286s 305ms/step - loss: 0.0231 - accuracy: 0.9929 - val_loss: 0.0135 - val_accuracy: 0.9963 - lr: 0.0010\n",
      "Epoch 22/50\n",
      "938/938 [==============================] - 276s 294ms/step - loss: 0.0246 - accuracy: 0.9928 - val_loss: 0.0112 - val_accuracy: 0.9969 - lr: 0.0010\n",
      "Epoch 23/50\n",
      "938/938 [==============================] - 304s 324ms/step - loss: 0.0222 - accuracy: 0.9933 - val_loss: 0.0108 - val_accuracy: 0.9974 - lr: 0.0010\n",
      "Epoch 24/50\n",
      "938/938 [==============================] - 297s 316ms/step - loss: 0.0229 - accuracy: 0.9931 - val_loss: 0.0096 - val_accuracy: 0.9971 - lr: 0.0010\n",
      "Epoch 25/50\n",
      "938/938 [==============================] - 292s 311ms/step - loss: 0.0220 - accuracy: 0.9934 - val_loss: 0.0107 - val_accuracy: 0.9964 - lr: 0.0010\n",
      "Epoch 26/50\n",
      "938/938 [==============================] - 317s 338ms/step - loss: 0.0209 - accuracy: 0.9937 - val_loss: 0.0104 - val_accuracy: 0.9972 - lr: 0.0010\n",
      "Epoch 27/50\n",
      "938/938 [==============================] - 282s 300ms/step - loss: 0.0208 - accuracy: 0.9939 - val_loss: 0.0100 - val_accuracy: 0.9973 - lr: 0.0010\n",
      "Epoch 28/50\n",
      "938/938 [==============================] - ETA: 0s - loss: 0.0217 - accuracy: 0.9938\n",
      "Epoch 28: ReduceLROnPlateau reducing learning rate to 0.0003000000142492354.\n",
      "938/938 [==============================] - 278s 297ms/step - loss: 0.0217 - accuracy: 0.9938 - val_loss: 0.0094 - val_accuracy: 0.9975 - lr: 0.0010\n",
      "Epoch 29/50\n",
      "938/938 [==============================] - 265s 283ms/step - loss: 0.0151 - accuracy: 0.9954 - val_loss: 0.0074 - val_accuracy: 0.9982 - lr: 3.0000e-04\n",
      "Epoch 30/50\n",
      "479/938 [==============>...............] - ETA: 2:08 - loss: 0.0138 - accuracy: 0.9959"
     ]
    }
   ],
   "source": [
    "history = model.fit(it_train, epochs=50, validation_data=(X_val, y_val), verbose=1, callbacks=[reduce_lr])\n",
    "model.save('dg6_adam_opt_aug_model.h5')"
   ]
  },
  {
   "cell_type": "code",
   "execution_count": null,
   "id": "ebce6b38-5ce1-49e3-95e6-321fdc04de26",
   "metadata": {},
   "outputs": [],
   "source": [
    "# evaluate model\n",
    "_, acc = model.evaluate(X_val, y_val, verbose=1)\n",
    "print('> %.3f' % (acc * 100.0))"
   ]
  },
  {
   "cell_type": "code",
   "execution_count": null,
   "id": "6591a4c5-ece5-42d6-9249-17f77b778263",
   "metadata": {},
   "outputs": [],
   "source": [
    "val_predict = model.predict(X_val,verbose =1)"
   ]
  },
  {
   "cell_type": "code",
   "execution_count": null,
   "id": "c2a3a42d-58ed-4fbb-bdd3-d377f61a82af",
   "metadata": {},
   "outputs": [],
   "source": [
    "# y_val.iloc[0]"
   ]
  },
  {
   "cell_type": "code",
   "execution_count": null,
   "id": "df8f6968-d19a-45b3-8250-c402c3ada5dd",
   "metadata": {},
   "outputs": [],
   "source": [
    "# model = models.load_model('./dg1_adam_opt_model.h5')"
   ]
  },
  {
   "cell_type": "code",
   "execution_count": null,
   "id": "a3061f0e-da04-40d9-b0b8-8aa86d19c7ce",
   "metadata": {},
   "outputs": [],
   "source": [
    "def plot_confusion_matrix(cm, classes,\n",
    "                          normalize=False,\n",
    "                          title='Confusion matrix',\n",
    "                          cmap=plt.cm.Blues):\n",
    "    \n",
    "    plt.imshow(cm, interpolation='nearest', cmap=cmap)\n",
    "    plt.title(title)\n",
    "    plt.colorbar()\n",
    "    tick_marks = np.arange(len(classes))\n",
    "    plt.xticks(tick_marks, classes, rotation=45)\n",
    "    plt.yticks(tick_marks, classes)\n",
    "\n",
    "    if normalize:\n",
    "        cm = cm.astype('float') / cm.sum(axis=1)[:, np.newaxis]\n",
    "\n",
    "    thresh = cm.max() / 2.\n",
    "    for i, j in itertools.product(range(cm.shape[0]), range(cm.shape[1])):\n",
    "         plt.text(j, i, cm[i, j],\n",
    "                 horizontalalignment=\"center\",\n",
    "                 color=\"white\" if cm[i, j] > thresh else \"black\")\n",
    "\n",
    "    plt.tight_layout()\n",
    "    plt.ylabel('True label')\n",
    "    plt.xlabel('Predicted label')"
   ]
  },
  {
   "cell_type": "code",
   "execution_count": null,
   "id": "8076f21e-f9a4-4670-b599-378741af6e59",
   "metadata": {},
   "outputs": [],
   "source": [
    "y_pred = model.predict(X_val)\n",
    "\n",
    "y_pred_classes = np.argmax(y_pred,axis = 1) \n",
    "\n",
    "y_true = np.argmax(y_val,axis = 1) \n",
    "\n",
    "confusion_mtx = confusion_matrix(y_true, y_pred_classes) "
   ]
  },
  {
   "cell_type": "code",
   "execution_count": null,
   "id": "b9273f1e-0dd0-4f44-8ec7-1828a999337c",
   "metadata": {},
   "outputs": [],
   "source": [
    "plot_confusion_matrix(confusion_mtx, classes = range(10)) "
   ]
  },
  {
   "cell_type": "code",
   "execution_count": null,
   "id": "f3b834fd-59f0-4a6c-8371-ca38d5befccf",
   "metadata": {},
   "outputs": [],
   "source": [
    "predictions = model.predict(test)\n",
    "\n",
    "predictions = np.argmax(predictions,axis = 1)\n",
    "\n",
    "predictions = pd.Series(predictions,name=\"Label\")"
   ]
  },
  {
   "cell_type": "code",
   "execution_count": null,
   "id": "71980500-f715-4251-aea9-1e10898d8192",
   "metadata": {},
   "outputs": [],
   "source": [
    "ImageId = pd.read_csv('sample_submission.csv')['ImageId']"
   ]
  },
  {
   "cell_type": "code",
   "execution_count": null,
   "id": "be47dda6-3af4-4fe9-8e3b-0973324fe025",
   "metadata": {},
   "outputs": [],
   "source": [
    "df = pd.DataFrame({'ImageId':ImageId,'label':predictions})"
   ]
  },
  {
   "cell_type": "code",
   "execution_count": null,
   "id": "074f2c47-357d-4b30-bc61-5d088fd8a87b",
   "metadata": {},
   "outputs": [],
   "source": [
    "df.to_csv('submission_2_6.csv',index=False)"
   ]
  },
  {
   "cell_type": "code",
   "execution_count": null,
   "id": "20966426-9466-460e-bc7d-4b6bb2857b83",
   "metadata": {},
   "outputs": [],
   "source": []
  }
 ],
 "metadata": {
  "kernelspec": {
   "display_name": "Python 3 (ipykernel)",
   "language": "python",
   "name": "python3"
  },
  "language_info": {
   "codemirror_mode": {
    "name": "ipython",
    "version": 3
   },
   "file_extension": ".py",
   "mimetype": "text/x-python",
   "name": "python",
   "nbconvert_exporter": "python",
   "pygments_lexer": "ipython3",
   "version": "3.9.13"
  }
 },
 "nbformat": 4,
 "nbformat_minor": 5
}
